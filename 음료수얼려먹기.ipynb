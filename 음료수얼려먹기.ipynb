{
 "cells": [
  {
   "cell_type": "markdown",
   "metadata": {},
   "source": [
    "#### DFS RECURSIVE FUNCTION"
   ]
  },
  {
   "cell_type": "code",
   "execution_count": 1,
   "metadata": {},
   "outputs": [
    {
     "name": "stdout",
     "output_type": "stream",
     "text": [
      "n : 4,  m : 5\n",
      "[0, 0, 1, 1, 0]\n",
      "[0, 0, 0, 1, 1]\n",
      "[1, 1, 1, 1, 1]\n",
      "[0, 0, 0, 0, 0]\n"
     ]
    }
   ],
   "source": [
    "with open(\"data/음료수얼려먹기.txt\", \"r\") as input:\n",
    "    n, m = map(int, input.readline().split())\n",
    "    print(f\"n : {n},  m : {m}\")\n",
    "    \n",
    "    graph = [[] for _ in range(n)]\n",
    "    for i in range(n):\n",
    "        row = list(map(int, input.readline().split()))\n",
    "        for x in row:\n",
    "            graph[i].append(x)\n",
    "        \n",
    "    for row in graph:\n",
    "        print(row)"
   ]
  },
  {
   "cell_type": "code",
   "execution_count": 83,
   "metadata": {},
   "outputs": [
    {
     "data": {
      "text/plain": [
       "96459387.0"
      ]
     },
     "execution_count": 83,
     "metadata": {},
     "output_type": "execute_result"
    }
   ],
   "source": [
    "# 12/22/23 11:00 pm\n",
    "55737.99 * 1300 + 24000000 "
   ]
  },
  {
   "cell_type": "code",
   "execution_count": 2,
   "metadata": {},
   "outputs": [],
   "source": [
    "def dfs_find_ice_recursive(x, y):\n",
    "    if x <= -1 or x >= n or y <= -1 or y >= m:\n",
    "        return False\n",
    "    if graph[x][y] == 0:\n",
    "        graph[x][y] = 1\n",
    "        dfs_find_ice_recursive(x-1, y)   # 상\n",
    "        dfs_find_ice_recursive(x+1, y)   # 하\n",
    "        dfs_find_ice_recursive(x, y-1)   # 좌\n",
    "        dfs_find_ice_recursive(x, y+1)   # 우\n",
    "        return True\n",
    "    return False"
   ]
  },
  {
   "cell_type": "code",
   "execution_count": 3,
   "metadata": {},
   "outputs": [
    {
     "name": "stdout",
     "output_type": "stream",
     "text": [
      "3\n"
     ]
    }
   ],
   "source": [
    "result = 0\n",
    "\n",
    "for i in range(n):\n",
    "    for j in range(m):\n",
    "        if dfs_find_ice_recursive(i, j) == True:\n",
    "            result += 1\n",
    "print(result)"
   ]
  },
  {
   "cell_type": "code",
   "execution_count": 10,
   "metadata": {},
   "outputs": [
    {
     "data": {
      "text/plain": [
       "True"
      ]
     },
     "execution_count": 10,
     "metadata": {},
     "output_type": "execute_result"
    }
   ],
   "source": [
    "dfs_find_ice_recursive(1, 1)\n",
    "\n",
    "for row in graph:\n",
    "    print(row)"
   ]
  },
  {
   "cell_type": "code",
   "execution_count": null,
   "metadata": {},
   "outputs": [],
   "source": []
  },
  {
   "cell_type": "markdown",
   "metadata": {},
   "source": [
    "#### DFS STACK"
   ]
  },
  {
   "cell_type": "code",
   "execution_count": 6,
   "metadata": {},
   "outputs": [
    {
     "name": "stdout",
     "output_type": "stream",
     "text": [
      "n : 4,  m : 5\n",
      "[0, 0, 1, 1, 0]\n",
      "[0, 0, 0, 1, 1]\n",
      "[1, 1, 1, 1, 1]\n",
      "[0, 0, 0, 0, 0]\n"
     ]
    }
   ],
   "source": [
    "with open(\"data/음료수얼려먹기.txt\", \"r\") as input:\n",
    "    n, m = map(int, input.readline().split())\n",
    "    print(f\"n : {n},  m : {m}\")\n",
    "    \n",
    "    graph = [[] for _ in range(n)]\n",
    "    for i in range(n):\n",
    "        row = list(map(int, input.readline().split()))\n",
    "        for x in row:\n",
    "            graph[i].append(x)\n",
    "        \n",
    "    for row in graph:\n",
    "        print(row)"
   ]
  },
  {
   "cell_type": "code",
   "execution_count": 7,
   "metadata": {},
   "outputs": [],
   "source": [
    "from collections import deque\n",
    "\n",
    "def dfs_find_ice_deque(start_x, start_y):\n",
    "    dx = [-1, 1, 0, 0]\n",
    "    dy = [0, 0, -1, 1]\n",
    "    \n",
    "    if start_x <= -1 or start_x >= n or start_y <= -1 or start_y >= m:\n",
    "        return False\n",
    "    if graph[start_x][start_y] == 0:\n",
    "        graph[start_x][start_y] = 1        \n",
    "        q = deque([(start_x, start_y)])\n",
    "        #q.append((start_x, start_y))\n",
    "        \n",
    "        while q:\n",
    "            x, y = q.pop()\n",
    "            #print(f\"x : {x},  y : {y}\")\n",
    "            for i in range(4):\n",
    "                nx = x + dx[i]\n",
    "                ny = y + dy[i]\n",
    "                if nx <= -1 or nx >= n or ny <= -1 or ny >= m:\n",
    "                    continue\n",
    "                if graph[nx][ny] == 0:\n",
    "                    graph[nx][ny] = 1\n",
    "                    q.append((nx, ny))\n",
    "        return True\n",
    "    return False     "
   ]
  },
  {
   "cell_type": "code",
   "execution_count": 8,
   "metadata": {},
   "outputs": [
    {
     "name": "stdout",
     "output_type": "stream",
     "text": [
      "3\n"
     ]
    }
   ],
   "source": [
    "result = 0\n",
    "\n",
    "for i in range(n):\n",
    "    for j in range(m):\n",
    "        if dfs_find_ice_deque(i, j) == True:\n",
    "            result += 1\n",
    "print(result)"
   ]
  },
  {
   "cell_type": "code",
   "execution_count": null,
   "metadata": {},
   "outputs": [],
   "source": []
  },
  {
   "cell_type": "code",
   "execution_count": null,
   "metadata": {},
   "outputs": [],
   "source": []
  },
  {
   "cell_type": "markdown",
   "metadata": {},
   "source": [
    "#### BFS QUEUE"
   ]
  },
  {
   "cell_type": "code",
   "execution_count": 7,
   "metadata": {},
   "outputs": [
    {
     "name": "stdout",
     "output_type": "stream",
     "text": [
      "n : 4,  m : 5\n",
      "[0, 0, 1, 1, 0]\n",
      "[0, 0, 0, 1, 1]\n",
      "[1, 1, 1, 1, 1]\n",
      "[0, 0, 0, 0, 0]\n"
     ]
    }
   ],
   "source": [
    "with open(\"data/음료수얼려먹기.txt\", \"r\") as input:\n",
    "    n, m = map(int, input.readline().split())\n",
    "    print(f\"n : {n},  m : {m}\")\n",
    "    \n",
    "    graph = [[] for _ in range(n)]\n",
    "    for i in range(n):\n",
    "        row = list(map(int, input.readline().split()))\n",
    "        for x in row:\n",
    "            graph[i].append(x)\n",
    "        \n",
    "    for row in graph:\n",
    "        print(row)"
   ]
  },
  {
   "cell_type": "code",
   "execution_count": 8,
   "metadata": {},
   "outputs": [],
   "source": [
    "from collections import deque\n",
    "\n",
    "def bfs_find_ice(start_x, start_y):\n",
    "    dx = [-1, 1, 0, 0]\n",
    "    dy = [0, 0, -1, 1]\n",
    "    \n",
    "    if start_x <= -1 or start_x >= n or start_y <= -1 or start_y >= m:\n",
    "        return False\n",
    "    if graph[start_x][start_y] == 0:\n",
    "        graph[start_x][start_y] = 1        \n",
    "        q = deque([(start_x, start_y)])\n",
    "        #q.append((start_x, start_y))\n",
    "        \n",
    "        while q:\n",
    "            x, y = q.popleft()\n",
    "            #print(f\"x : {x},  y : {y}\")\n",
    "            for i in range(4):\n",
    "                nx = x + dx[i]\n",
    "                ny = y + dy[i]\n",
    "                if nx <= -1 or nx >= n or ny <= -1 or ny >= m:\n",
    "                    continue\n",
    "                if graph[nx][ny] == 0:\n",
    "                    graph[nx][ny] = 1\n",
    "                    q.append((nx, ny))\n",
    "        return True\n",
    "    return False     "
   ]
  },
  {
   "cell_type": "code",
   "execution_count": 9,
   "metadata": {},
   "outputs": [
    {
     "name": "stdout",
     "output_type": "stream",
     "text": [
      "3\n"
     ]
    }
   ],
   "source": [
    "result = 0\n",
    "\n",
    "for i in range(n):\n",
    "    for j in range(m):\n",
    "        if bfs_find_ice(i, j) == True:\n",
    "            result += 1\n",
    "print(result)"
   ]
  },
  {
   "cell_type": "code",
   "execution_count": 10,
   "metadata": {},
   "outputs": [
    {
     "name": "stdout",
     "output_type": "stream",
     "text": [
      "[1, 1, 1, 1, 1]\n",
      "[1, 1, 1, 1, 1]\n",
      "[1, 1, 1, 1, 1]\n",
      "[1, 1, 1, 1, 1]\n"
     ]
    }
   ],
   "source": [
    "for row in graph:\n",
    "    print(row)"
   ]
  }
 ],
 "metadata": {
  "kernelspec": {
   "display_name": "base",
   "language": "python",
   "name": "python3"
  },
  "language_info": {
   "codemirror_mode": {
    "name": "ipython",
    "version": 3
   },
   "file_extension": ".py",
   "mimetype": "text/x-python",
   "name": "python",
   "nbconvert_exporter": "python",
   "pygments_lexer": "ipython3",
   "version": "3.9.12"
  }
 },
 "nbformat": 4,
 "nbformat_minor": 2
}
