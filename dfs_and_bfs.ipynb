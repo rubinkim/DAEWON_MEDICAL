{
 "cells": [
  {
   "cell_type": "code",
   "execution_count": 36,
   "metadata": {},
   "outputs": [
    {
     "name": "stdout",
     "output_type": "stream",
     "text": [
      "노드수 : 8,  간선수 : 9\n",
      "[]\n",
      "[8, 2, 3]\n",
      "[7, 1]\n",
      "[5, 4, 1]\n",
      "[3, 5]\n",
      "[3, 4]\n",
      "[7]\n",
      "[8, 2, 6]\n",
      "[7, 1]\n"
     ]
    }
   ],
   "source": [
    "# 그래프 구축하기\n",
    "with open(\"data/dfs_and_bfs.txt\", \"r\") as input:\n",
    "    n, m = map(int, input.readline().split())\n",
    "    print(f\"노드수 : {n},  간선수 : {m}\")\n",
    "    \n",
    "    graph = [[] for _ in range(n+1)]\n",
    "    for _ in range(m):\n",
    "        a, b = map(int, input.readline().split())\n",
    "        graph[a].append(b)\n",
    "        graph[b].append(a)\n",
    "        \n",
    "    for row in graph:\n",
    "        print(row)\n",
    "        \n",
    "    visited = [False] * (n+1)"
   ]
  },
  {
   "cell_type": "code",
   "execution_count": null,
   "metadata": {},
   "outputs": [],
   "source": []
  },
  {
   "cell_type": "code",
   "execution_count": 12,
   "metadata": {},
   "outputs": [
    {
     "data": {
      "text/plain": [
       "289758"
      ]
     },
     "execution_count": 12,
     "metadata": {},
     "output_type": "execute_result"
    }
   ],
   "source": [
    "# 12/21/23\n",
    "206734 + 17000 + 66024"
   ]
  },
  {
   "cell_type": "code",
   "execution_count": 9,
   "metadata": {},
   "outputs": [
    {
     "name": "stdout",
     "output_type": "stream",
     "text": [
      "path : [1],   s : [6]\n",
      "path : [1],   s : [6, 2]\n",
      "path : [1, 2],   s : [6, 4]\n",
      "path : [1, 2],   s : [6, 4, 3]\n",
      "path : [1, 2, 3],   s : [6, 4, 5]\n"
     ]
    },
    {
     "data": {
      "text/plain": [
       "[1, 2, 3, 5, 4, 6]"
      ]
     },
     "execution_count": 9,
     "metadata": {},
     "output_type": "execute_result"
    }
   ],
   "source": [
    "# Define dfs using stack\n",
    "graph = [[], [2,6], [1,3,4], [2,5], [2], [3], [1]]                   # 1 2 3 5 4 6\n",
    "#graph = [[],[2,3,8],[1,7],[1,4,5],[3,5],[3,4],[7],[2,6,8],[1,7]]    # 1 2 7 6 8 3 4 5\n",
    "\n",
    "def dfs_stack(graph, start):\n",
    "    path = [start]\n",
    "    s = [start]\n",
    "    \n",
    "    while s:\n",
    "        now = s.pop()\n",
    "        if now not in path:\n",
    "            path.append(now)\n",
    "        for nxt in reversed(graph[now]):\n",
    "            if nxt not in path:\n",
    "                s.append(nxt)\n",
    "                print(f\"path : {path},   s : {s}\")\n",
    "                \n",
    "    return path\n",
    "\n",
    "dfs_stack(graph, 1)"
   ]
  },
  {
   "cell_type": "code",
   "execution_count": 10,
   "metadata": {},
   "outputs": [
    {
     "name": "stdout",
     "output_type": "stream",
     "text": [
      "path : [1]\n",
      "path : [1, 2]\n",
      "path : [1, 2, 3]\n",
      "path : [1, 2, 3, 5]\n",
      "path : [1, 2, 3, 5, 4]\n",
      "path : [1, 2, 3, 5, 4, 6]\n"
     ]
    },
    {
     "data": {
      "text/plain": [
       "[1, 2, 3, 5, 4, 6]"
      ]
     },
     "execution_count": 10,
     "metadata": {},
     "output_type": "execute_result"
    }
   ],
   "source": [
    "# Define dfs using recursive function\n",
    "graph = [[], [2,6], [1,3,4], [2,5], [2], [3], [1]]                  # 1 2 3 5 4 6\n",
    "#graph = [[],[2,3,8],[1,7],[1,4,5],[3,5],[3,4],[7],[2,6,8],[1,7]]    # 1 2 7 6 8 3 4 5\n",
    "path = []\n",
    "\n",
    "def dfs_recursive(graph, start):\n",
    "    global path\n",
    "    path.append(start)\n",
    "    print(f\"path : {path}\")\n",
    "    \n",
    "    for nxt in graph[start]:\n",
    "        if nxt not in path:\n",
    "            dfs_recursive(graph, nxt)\n",
    "            \n",
    "dfs_recursive(graph, 1)\n",
    "path"
   ]
  },
  {
   "cell_type": "code",
   "execution_count": 34,
   "metadata": {},
   "outputs": [
    {
     "name": "stdout",
     "output_type": "stream",
     "text": [
      "now : 1, nxt : 2, path : [1]\n",
      "now : 1, nxt : 3, path : [1]\n",
      "now : 1, nxt : 8, path : [1]\n",
      "now : 2, nxt : 7, path : [1, 2]\n",
      "now : 3, nxt : 4, path : [1, 2, 3]\n",
      "now : 3, nxt : 5, path : [1, 2, 3]\n",
      "now : 8, nxt : 7, path : [1, 2, 3, 8]\n",
      "now : 7, nxt : 6, path : [1, 2, 3, 8, 7]\n",
      "now : 4, nxt : 5, path : [1, 2, 3, 8, 7, 4]\n",
      "now : 7, nxt : 6, path : [1, 2, 3, 8, 7, 4, 5, 7]\n"
     ]
    },
    {
     "data": {
      "text/plain": [
       "[1, 2, 3, 8, 7, 4, 5, 7, 6, 5, 6]"
      ]
     },
     "execution_count": 34,
     "metadata": {},
     "output_type": "execute_result"
    }
   ],
   "source": [
    "# Define bfs using deque\n",
    "from collections import deque\n",
    "\n",
    "graph = [[],[2,3,8],[1,7],[1,4,5],[3,5],[3,4],[7],[2,6,8],[1,7]]        # 1 2 3 8 7 4 5 6\n",
    "\n",
    "def bfs_deque(graph, start):\n",
    "    q = deque([start])  \n",
    "    path = []\n",
    "    \n",
    "    while q:\n",
    "        now = q.popleft()\n",
    "        path.append(now)\n",
    "        for nxt in graph[now]:\n",
    "            if nxt not in path:\n",
    "                q.append(nxt)\n",
    "                print(f\"now : {now}, nxt : {nxt}, path : {path}\")\n",
    "    return path\n",
    "\n",
    "bfs_deque(graph, 1)"
   ]
  },
  {
   "cell_type": "code",
   "execution_count": 16,
   "metadata": {},
   "outputs": [
    {
     "name": "stdout",
     "output_type": "stream",
     "text": [
      "deque([5, 9])\n"
     ]
    }
   ],
   "source": [
    "dq = deque()\n",
    "dq.append(2)\n",
    "dq.append(5)\n",
    "dq.append(9)\n",
    "dq.popleft()\n",
    "\n",
    "print(dq)"
   ]
  },
  {
   "cell_type": "code",
   "execution_count": 27,
   "metadata": {},
   "outputs": [
    {
     "data": {
      "text/plain": [
       "[1, 2, 3, 5, 4, 6, 1, 8, 7, 1, 1, 1, 1, 1, 1, 1, 1, 1, 1, 1, 1, 1, 1]"
      ]
     },
     "execution_count": 27,
     "metadata": {},
     "output_type": "execute_result"
    }
   ],
   "source": [
    "# Define bfs using deque\n",
    "from collections import deque\n",
    "\n",
    "graph = [[],[2,3,8],[1,7],[1,4,5],[3,5],[3,4],[7],[2,6,8],[1,7]]\n",
    "\n",
    "def bfs_deque(graph, start):\n",
    "    q = deque([start])  \n",
    "    \n",
    "    while q:\n",
    "        now = q.popleft()\n",
    "        path.append(now)\n",
    "        for nxt in graph[now]:\n",
    "            if nxt not in path:\n",
    "                q.append(nxt)\n",
    "                print(f\"now : {now}, nxt : {nxt}, path : {path}\")\n",
    "    return path\n",
    "\n",
    "bfs_deque(graph, 1)"
   ]
  }
 ],
 "metadata": {
  "kernelspec": {
   "display_name": "base",
   "language": "python",
   "name": "python3"
  },
  "language_info": {
   "codemirror_mode": {
    "name": "ipython",
    "version": 3
   },
   "file_extension": ".py",
   "mimetype": "text/x-python",
   "name": "python",
   "nbconvert_exporter": "python",
   "pygments_lexer": "ipython3",
   "version": "3.9.12"
  }
 },
 "nbformat": 4,
 "nbformat_minor": 2
}
