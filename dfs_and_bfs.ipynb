{
 "cells": [
  {
   "cell_type": "code",
   "execution_count": 36,
   "metadata": {},
   "outputs": [
    {
     "name": "stdout",
     "output_type": "stream",
     "text": [
      "노드수 : 8,  간선수 : 9\n",
      "[]\n",
      "[8, 2, 3]\n",
      "[7, 1]\n",
      "[5, 4, 1]\n",
      "[3, 5]\n",
      "[3, 4]\n",
      "[7]\n",
      "[8, 2, 6]\n",
      "[7, 1]\n"
     ]
    }
   ],
   "source": [
    "# 그래프 구축하기\n",
    "with open(\"data/dfs_and_bfs.txt\", \"r\") as input:\n",
    "    n, m = map(int, input.readline().split())\n",
    "    print(f\"노드수 : {n},  간선수 : {m}\")\n",
    "    \n",
    "    graph = [[] for _ in range(n+1)]\n",
    "    for _ in range(m):\n",
    "        a, b = map(int, input.readline().split())\n",
    "        graph[a].append(b)\n",
    "        graph[b].append(a)\n",
    "        \n",
    "    for row in graph:\n",
    "        print(row)\n",
    "        \n",
    "    visited = [False] * (n+1)"
   ]
  },
  {
   "cell_type": "code",
   "execution_count": 1,
   "metadata": {},
   "outputs": [],
   "source": [
    "graph = [[],[2,3,8],[1,7],[1,4,5],[3,5],[3,4],[7],[2,6,8],[1,7]]\n",
    "visited = [False] * 9"
   ]
  },
  {
   "cell_type": "code",
   "execution_count": 61,
   "metadata": {},
   "outputs": [],
   "source": [
    "def dfs_stack(graph, v, visited):\n",
    "    visited[v] = True\n",
    "    s = []\n",
    "    s.append(v)\n",
    "    print(v, end=' ')\n",
    "    while s:\n",
    "        if not s:\n",
    "            break\n",
    "        now = s[-1]        \n",
    "        \n",
    "        for nxt in graph[now]:\n",
    "            print(f\"now : {now},  nxt : {nxt}\")\n",
    "            if visited[nxt]:\n",
    "                if s:\n",
    "                    s.pop()  \n",
    "                else:\n",
    "                    continue            \n",
    "                \n",
    "            else:\n",
    "                visited[nxt] = True\n",
    "                s.append(nxt)\n",
    "                print(nxt, end=' ')\n",
    "                if not any([visited[x] for x in graph[now]]):\n",
    "                    continue\n",
    "                else:                    \n",
    "                    break\n"
   ]
  },
  {
   "cell_type": "code",
   "execution_count": null,
   "metadata": {},
   "outputs": [],
   "source": [
    "def dfs_stack(graph, v, visited):\n",
    "    visited[v] = True\n",
    "    s = []\n",
    "    s.append(v)\n",
    "    print(v, end=' ')\n",
    "    while s:\n",
    "        if not s:\n",
    "            break\n",
    "        now = s[-1]        \n",
    "        \n",
    "        for nxt in graph[now]:\n",
    "            print(f\"now : {now},  nxt : {nxt}\")\n",
    "            if visited[nxt]:\n",
    "                if s:\n",
    "                    s.pop()  \n",
    "                else:\n",
    "                    continue            \n",
    "                \n",
    "            elif not visited[nxt] and len(graph[nxt]) >= 2:\n",
    "                visited[nxt] = True\n",
    "                s.append(nxt)\n",
    "                print(nxt, end=' ')\n",
    "            \n",
    "            elif not visited[nxt] and len(graph[nxt]) == 1:\n",
    "                visited[nxt] = True\n",
    "                s.append(print())\n"
   ]
  },
  {
   "cell_type": "code",
   "execution_count": 5,
   "metadata": {},
   "outputs": [
    {
     "name": "stdout",
     "output_type": "stream",
     "text": [
      "8 7 6 3 5 4 2 1 "
     ]
    }
   ],
   "source": [
    "graph = [[],[2,3,8],[1,7],[1,4,5],[3,5],[3,4],[7],[2,6,8],[1,7]]\n",
    "visited = [False] * 9\n",
    "\n",
    "def dfs_stack(graph, v, visited):\n",
    "    visited[v] = True\n",
    "    s = []\n",
    "    s.append(v)\n",
    "    \n",
    "    while s:\n",
    "        if not s:\n",
    "            break\n",
    "        now = s[-1]\n",
    "        for nxt in graph[now]:\n",
    "            #print(f\"now : {now},  nxt : {nxt}\")\n",
    "            \n",
    "            if not visited[nxt]:\n",
    "                visited[nxt] = True\n",
    "                s.append(nxt)\n",
    "            \n",
    "            elif visited[nxt]:\n",
    "                out = s.pop()\n",
    "                print(out, end=' ')\n",
    "                \n",
    "dfs_stack(graph, 1, visited)"
   ]
  },
  {
   "cell_type": "code",
   "execution_count": null,
   "metadata": {},
   "outputs": [],
   "source": [
    "dfs_stack(graph, 1, visited)"
   ]
  },
  {
   "cell_type": "code",
   "execution_count": 100,
   "metadata": {},
   "outputs": [],
   "source": [
    "def dfs_stack(graph, v, visited):\n",
    "    visited[v] = True\n",
    "    s = []\n",
    "    s.append(v)\n",
    "    print(v, end=' ')\n",
    "    while s:\n",
    "        if not s:\n",
    "            break\n",
    "        now = s[-1]        \n",
    "        \n",
    "        for nxt in graph[now]:\n",
    "            print(f\"now : {now},  nxt : {nxt}\")\n",
    "            if visited[nxt]:\n",
    "                if s:\n",
    "                    s.pop()  \n",
    "                if not any([visited[x] for x in graph[now]]):\n",
    "                    continue \n",
    "                else:\n",
    "                    break           \n",
    "                \n",
    "            else:\n",
    "                visited[nxt] = True\n",
    "                s.append(nxt)\n",
    "                print(nxt, end=' ')\n",
    "      \n",
    "\n"
   ]
  },
  {
   "cell_type": "code",
   "execution_count": 3,
   "metadata": {},
   "outputs": [
    {
     "name": "stdout",
     "output_type": "stream",
     "text": [
      "now : 1,  nxt : 2\n",
      "now : 1,  nxt : 3\n",
      "now : 1,  nxt : 8\n",
      "now : 8,  nxt : 1\n",
      "8 now : 8,  nxt : 7\n",
      "now : 7,  nxt : 2\n",
      "7 now : 7,  nxt : 6\n",
      "now : 7,  nxt : 8\n",
      "6 now : 3,  nxt : 1\n",
      "3 now : 3,  nxt : 4\n",
      "now : 3,  nxt : 5\n",
      "now : 5,  nxt : 3\n",
      "5 now : 5,  nxt : 4\n",
      "4 now : 2,  nxt : 1\n",
      "2 now : 2,  nxt : 7\n",
      "1 "
     ]
    }
   ],
   "source": [
    "dfs_stack(graph, 1, visited)       # 1 2 3 8 7 6 4 5 "
   ]
  },
  {
   "cell_type": "code",
   "execution_count": 74,
   "metadata": {},
   "outputs": [
    {
     "name": "stdout",
     "output_type": "stream",
     "text": [
      "1 now : 1,  nxt : 2\n",
      "2 now : 2,  nxt : 1\n",
      "now : 2,  nxt : 7\n",
      "7 now : 7,  nxt : 2\n",
      "now : 7,  nxt : 6\n",
      "6 now : 6,  nxt : 7\n",
      "now : 1,  nxt : 2\n",
      "now : 1,  nxt : 3\n",
      "3 now : 3,  nxt : 1\n",
      "now : 3,  nxt : 4\n",
      "4 now : 4,  nxt : 3\n",
      "now : 4,  nxt : 5\n",
      "5 now : 5,  nxt : 3\n",
      "now : 5,  nxt : 4\n"
     ]
    }
   ],
   "source": [
    "dfs_stack(graph, 1, visited)"
   ]
  },
  {
   "cell_type": "code",
   "execution_count": null,
   "metadata": {},
   "outputs": [],
   "source": []
  },
  {
   "cell_type": "code",
   "execution_count": null,
   "metadata": {},
   "outputs": [],
   "source": []
  },
  {
   "cell_type": "code",
   "execution_count": 48,
   "metadata": {},
   "outputs": [],
   "source": [
    "graph = [[],[2,3,8],[1,7],[1,4,5],[3,5],[3,4],[7],[2,6,8],[1,7]]\n",
    "visited = [False] * 9"
   ]
  },
  {
   "cell_type": "code",
   "execution_count": 49,
   "metadata": {},
   "outputs": [],
   "source": [
    "def dfs_stack(graph, v, visited):\n",
    "    s = []\n",
    "    s.append(v)\n",
    "    visited[v] = True\n",
    "    print(v, end=' ')\n",
    "    \n",
    "    while s:\n",
    "        if not s:\n",
    "            break\n",
    "        now = s[-1]\n",
    "        for nxt in graph[now]:\n",
    "            if not visited[nxt]:\n",
    "                visited[nxt] = True\n",
    "                s.append(nxt)\n",
    "                print(nxt, end=' ')  \n",
    "                if not any([visited[x] for x in graph[now]]):\n",
    "                    break         \n",
    "            else:\n",
    "                s.pop()     "
   ]
  },
  {
   "cell_type": "code",
   "execution_count": 50,
   "metadata": {},
   "outputs": [
    {
     "name": "stdout",
     "output_type": "stream",
     "text": [
      "1 2 3 8 7 6 4 5 "
     ]
    }
   ],
   "source": [
    "dfs_stack(graph, 1, visited)"
   ]
  },
  {
   "cell_type": "code",
   "execution_count": null,
   "metadata": {},
   "outputs": [],
   "source": []
  }
 ],
 "metadata": {
  "kernelspec": {
   "display_name": "base",
   "language": "python",
   "name": "python3"
  },
  "language_info": {
   "codemirror_mode": {
    "name": "ipython",
    "version": 3
   },
   "file_extension": ".py",
   "mimetype": "text/x-python",
   "name": "python",
   "nbconvert_exporter": "python",
   "pygments_lexer": "ipython3",
   "version": "3.9.12"
  }
 },
 "nbformat": 4,
 "nbformat_minor": 2
}
