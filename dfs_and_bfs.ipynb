{
 "cells": [
  {
   "cell_type": "code",
   "execution_count": 14,
   "metadata": {},
   "outputs": [
    {
     "name": "stdout",
     "output_type": "stream",
     "text": [
      "노드수 : 8,  간선수 : 9\n",
      "[]\n",
      "[8, 2, 3]\n",
      "[7, 1]\n",
      "[5, 4, 1]\n",
      "[3, 5]\n",
      "[3, 4]\n",
      "[7]\n",
      "[8, 2, 6]\n",
      "[7, 1]\n"
     ]
    }
   ],
   "source": [
    "# 그래프 구축하기\n",
    "with open(\"data/dfs_and_bfs.txt\", \"r\") as input:\n",
    "    n, m = map(int, input.readline().split())\n",
    "    print(f\"노드수 : {n},  간선수 : {m}\")\n",
    "    \n",
    "    graph = [[] for _ in range(n+1)]\n",
    "    for _ in range(m):\n",
    "        a, b = map(int, input.readline().split())\n",
    "        graph[a].append(b)\n",
    "        graph[b].append(a)\n",
    "        \n",
    "    for row in graph:\n",
    "        print(row)\n",
    "        \n",
    "    visited = [False] * (n+1)"
   ]
  },
  {
   "cell_type": "code",
   "execution_count": null,
   "metadata": {},
   "outputs": [],
   "source": [
    "# stack을 이용해서 dfs를 만들기\n",
    "def dfs_stack(graph)"
   ]
  }
 ],
 "metadata": {
  "kernelspec": {
   "display_name": "base",
   "language": "python",
   "name": "python3"
  },
  "language_info": {
   "codemirror_mode": {
    "name": "ipython",
    "version": 3
   },
   "file_extension": ".py",
   "mimetype": "text/x-python",
   "name": "python",
   "nbconvert_exporter": "python",
   "pygments_lexer": "ipython3",
   "version": "3.9.12"
  }
 },
 "nbformat": 4,
 "nbformat_minor": 2
}
