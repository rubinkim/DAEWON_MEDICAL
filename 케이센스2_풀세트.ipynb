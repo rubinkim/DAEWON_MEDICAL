{
 "cells": [
  {
   "cell_type": "code",
   "execution_count": 2,
   "metadata": {},
   "outputs": [],
   "source": [
    "from webdriver_manager.chrome import ChromeDriverManager\n",
    "from selenium import webdriver\n",
    "from selenium.webdriver.common.by import By\n",
    "from selenium.webdriver.chrome.service import Service\n",
    "from selenium.common.exceptions import NoSuchElementException\n",
    "import time\n",
    "\n",
    "from openpyxl import Workbook"
   ]
  },
  {
   "cell_type": "code",
   "execution_count": 4,
   "metadata": {},
   "outputs": [],
   "source": [
    "original_list = [\"caresense2_meter_fullset\"]                          # 수집하려는 품목들을 리스트로 만든다.\n",
    "product_code = {\"caresense2_meter_fullset\" : 9355226}"
   ]
  },
  {
   "cell_type": "code",
   "execution_count": 5,
   "metadata": {},
   "outputs": [],
   "source": [
    "# 위 정보를 이용해서 각 상품별 url_list를 만들어준다.\n",
    "url_list = [] \n",
    "for lis in original_list:\n",
    "    key = product_code[lis] \n",
    "    raw_url = f\"https://www.coupang.com/np/categories/{key}?listSize=120&brand=&offerCondition=&filterType=&isPriceRange=false&minPrice=&maxPrice=&page=\"\n",
    "    url_list.append(raw_url)"
   ]
  },
  {
   "cell_type": "code",
   "execution_count": null,
   "metadata": {},
   "outputs": [],
   "source": [
    "for name, main_url in zip(original_list, url_list) : \n",
    "    print(\"*\" * 50 + \" \" + f\"{name}시작하겠습니다.\" + \" \" + \"*\" * 50)\n",
    "    \n",
    "    for i in range(1, 6):\n",
    "        driver = webdriver.Chrome(service=Service(ChromeDriverManager().install()), options=options)   \n",
    "        temp_url = main_url + f\"{i}\"\n",
    "        driver.get(temp_url)\n",
    "        time.sleep(10)\n",
    "        print(\"*\" * 50 + \" \" + str(i) + \"Page start!\" + \" \" + \"*\" * 50)\n",
    "\n",
    "        wb = Workbook()\n",
    "        ws = wb.create_sheet(name)\n",
    "        wb.remove_sheet(wb[\"Sheet\"])\n",
    "        ws.append([\"상품명\", \"가격\", \"배송기한\", \"상세URL\"]) \n",
    "\n",
    "        try :\n",
    "            product = driver.find_element(By.ID, \"productList\")\n",
    "            lis = product.find_elements(By.CLASS_NAME, \"baby-product\")\n",
    "\n",
    "            for li in lis:\n",
    "                try : \n",
    "                    product = li.find_element(By.CLASS_NAME, \"name\").text\n",
    "                    price = li.find_element(By.CLASS_NAME, \"price-value\").text\n",
    "                    delivery = li.find_element(By.CLASS_NAME, \"delivery\").text\n",
    "                    product_url = li.find_element(By.CLASS_NAME, \"baby-product-link\").get_attribute(\"href\")\n",
    "                    ws.append([product, price, delivery, product_url])\n",
    "                    print(\"product : \", product)\n",
    "                    print(\"price : \", price)\n",
    "                    print(\"delivery : \", delivery)\n",
    "                    print(\"url : \", product_url)\n",
    "                except Exception:\n",
    "                    pass \n",
    "            print(\"*\" * 50 + \" \" + str(i) + \"Page end!\" + \" \" + \"*\" * 50)\n",
    "            time.sleep(5)\n",
    "            wb.save(f\"/Users/kds/Documents/coupang/{name}_{i}page.xlsx\")\n",
    "            wb.close()\n",
    "            \n",
    "            driver.quit()\n",
    "            \n",
    "        except NoSuchElementException :\n",
    "            print(\"에러가 발생하여 정상적으로 데이터가 수집되지 않았습니다.\")\n",
    "            \n",
    "    print(f\"*\" * 50 + \"모든 데이터 수집을 마쳤습니다. 감사합니다. \" + \" \" + \"*\" * 50)"
   ]
  }
 ],
 "metadata": {
  "kernelspec": {
   "display_name": "base",
   "language": "python",
   "name": "python3"
  },
  "language_info": {
   "codemirror_mode": {
    "name": "ipython",
    "version": 3
   },
   "file_extension": ".py",
   "mimetype": "text/x-python",
   "name": "python",
   "nbconvert_exporter": "python",
   "pygments_lexer": "ipython3",
   "version": "3.9.12"
  }
 },
 "nbformat": 4,
 "nbformat_minor": 2
}
