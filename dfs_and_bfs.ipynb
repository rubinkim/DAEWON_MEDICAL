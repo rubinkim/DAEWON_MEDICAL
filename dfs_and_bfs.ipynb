{
 "cells": [
  {
   "cell_type": "code",
   "execution_count": 36,
   "metadata": {},
   "outputs": [
    {
     "name": "stdout",
     "output_type": "stream",
     "text": [
      "노드수 : 8,  간선수 : 9\n",
      "[]\n",
      "[8, 2, 3]\n",
      "[7, 1]\n",
      "[5, 4, 1]\n",
      "[3, 5]\n",
      "[3, 4]\n",
      "[7]\n",
      "[8, 2, 6]\n",
      "[7, 1]\n"
     ]
    }
   ],
   "source": [
    "# 그래프 구축하기\n",
    "with open(\"data/dfs_and_bfs.txt\", \"r\") as input:\n",
    "    n, m = map(int, input.readline().split())\n",
    "    print(f\"노드수 : {n},  간선수 : {m}\")\n",
    "    \n",
    "    graph = [[] for _ in range(n+1)]\n",
    "    for _ in range(m):\n",
    "        a, b = map(int, input.readline().split())\n",
    "        graph[a].append(b)\n",
    "        graph[b].append(a)\n",
    "        \n",
    "    for row in graph:\n",
    "        print(row)\n",
    "        \n",
    "    visited = [False] * (n+1)"
   ]
  },
  {
   "cell_type": "code",
   "execution_count": 31,
   "metadata": {},
   "outputs": [],
   "source": [
    "graph = [[],[2,3,8],[1,7],[1,4,5],[3,5],[3,4],[7],[2,6,8],[1,7]]\n",
    "visited = [False] * 9"
   ]
  },
  {
   "cell_type": "code",
   "execution_count": 32,
   "metadata": {},
   "outputs": [],
   "source": [
    "def Non_Recursive_dfs(graph, source):\n",
    "    path = []\n",
    "    stack = []\n",
    "    stack.append(source)\n",
    "    \n",
    "    while stack:\n",
    "        s = stack.pop()\n",
    "        if s not in path:\n",
    "            path.append(s)\n",
    "\n",
    "        elif s in path:\n",
    "            #leaf node\n",
    "            continue\n",
    "        for neighbour in graph[s]:\n",
    "            stack.append(neighbour)\n",
    "    \n",
    "    return path"
   ]
  },
  {
   "cell_type": "code",
   "execution_count": 33,
   "metadata": {},
   "outputs": [
    {
     "data": {
      "text/plain": [
       "[1, 8, 7, 6, 2, 3, 5, 4]"
      ]
     },
     "execution_count": 33,
     "metadata": {},
     "output_type": "execute_result"
    }
   ],
   "source": [
    "Non_Recursive_dfs(graph, 1)"
   ]
  },
  {
   "cell_type": "code",
   "execution_count": 27,
   "metadata": {},
   "outputs": [],
   "source": [
    "def Non_Recursive_dfs(graph, source):\n",
    "    path = []\n",
    "    stack = []\n",
    "    stack.append(source)\n",
    "    \n",
    "    while stack:\n",
    "        s = stack.pop()\n",
    "        if s not in path:\n",
    "            path.append(s)\n",
    "\n",
    "        elif s in path:\n",
    "            #leaf node\n",
    "            continue\n",
    "        for neighbour in graph[s]:\n",
    "            stack.append(neighbour)\n",
    "    \n",
    "    return \" \".join(path)"
   ]
  },
  {
   "cell_type": "code",
   "execution_count": 28,
   "metadata": {},
   "outputs": [
    {
     "ename": "TypeError",
     "evalue": "sequence item 0: expected str instance, int found",
     "output_type": "error",
     "traceback": [
      "\u001b[1;31m---------------------------------------------------------------------------\u001b[0m",
      "\u001b[1;31mTypeError\u001b[0m                                 Traceback (most recent call last)",
      "Input \u001b[1;32mIn [28]\u001b[0m, in \u001b[0;36m<cell line: 1>\u001b[1;34m()\u001b[0m\n\u001b[1;32m----> 1\u001b[0m \u001b[43mNon_Recursive_dfs\u001b[49m\u001b[43m(\u001b[49m\u001b[43mgraph\u001b[49m\u001b[43m,\u001b[49m\u001b[43m \u001b[49m\u001b[38;5;241;43m1\u001b[39;49m\u001b[43m)\u001b[49m\n",
      "Input \u001b[1;32mIn [27]\u001b[0m, in \u001b[0;36mNon_Recursive_dfs\u001b[1;34m(graph, source)\u001b[0m\n\u001b[0;32m     14\u001b[0m     \u001b[38;5;28;01mfor\u001b[39;00m neighbour \u001b[38;5;129;01min\u001b[39;00m graph[s]:\n\u001b[0;32m     15\u001b[0m         stack\u001b[38;5;241m.\u001b[39mappend(neighbour)\n\u001b[1;32m---> 17\u001b[0m \u001b[38;5;28;01mreturn\u001b[39;00m \u001b[38;5;124;43m\"\u001b[39;49m\u001b[38;5;124;43m \u001b[39;49m\u001b[38;5;124;43m\"\u001b[39;49m\u001b[38;5;241;43m.\u001b[39;49m\u001b[43mjoin\u001b[49m\u001b[43m(\u001b[49m\u001b[43mpath\u001b[49m\u001b[43m)\u001b[49m\n",
      "\u001b[1;31mTypeError\u001b[0m: sequence item 0: expected str instance, int found"
     ]
    }
   ],
   "source": [
    "Non_Recursive_dfs(graph, 1)"
   ]
  },
  {
   "cell_type": "code",
   "execution_count": 23,
   "metadata": {},
   "outputs": [],
   "source": [
    "def dfs_stack(graph, v, visited):\n",
    "    visited[v] = True\n",
    "    s = []\n",
    "    s.append(v)\n",
    "    print(v, end=' ')\n",
    "    while s:\n",
    "        if not s:\n",
    "            break\n",
    "        now = s[-1]        \n",
    "        \n",
    "        for nxt in graph[now]:\n",
    "            if visited[nxt]:\n",
    "                if s:\n",
    "                    s.pop()  \n",
    "                else:\n",
    "                    continue            \n",
    "                \n",
    "            else:\n",
    "                visited[nxt] = True\n",
    "                s.append(nxt)\n",
    "                print(nxt, end=' ')\n",
    "                if not any([visited[x] for x in graph[now]]):\n",
    "                    continue\n",
    "                else:\n",
    "                    break\n"
   ]
  },
  {
   "cell_type": "code",
   "execution_count": 24,
   "metadata": {},
   "outputs": [
    {
     "name": "stdout",
     "output_type": "stream",
     "text": [
      "1 2 7 6 3 4 5 "
     ]
    }
   ],
   "source": [
    "dfs_stack(graph, 1, visited)"
   ]
  },
  {
   "cell_type": "code",
   "execution_count": null,
   "metadata": {},
   "outputs": [],
   "source": []
  },
  {
   "cell_type": "code",
   "execution_count": null,
   "metadata": {},
   "outputs": [],
   "source": []
  },
  {
   "cell_type": "code",
   "execution_count": null,
   "metadata": {},
   "outputs": [],
   "source": []
  },
  {
   "cell_type": "code",
   "execution_count": 35,
   "metadata": {},
   "outputs": [],
   "source": [
    "graph = [[],[2,3,8],[1,7],[1,4,5],[3,5],[3,4],[7],[2,6,8],[1,7]]\n",
    "visited = [False] * 9"
   ]
  },
  {
   "cell_type": "code",
   "execution_count": 36,
   "metadata": {},
   "outputs": [],
   "source": [
    "def dfs_stack(graph, v, visited):\n",
    "    s = []\n",
    "    s.append(v)\n",
    "    visited[v] = True\n",
    "    \n",
    "    while s:\n",
    "        if not s:\n",
    "            break\n",
    "        now = s[-1]\n",
    "        for nxt in graph[now]:\n",
    "            if not visited[nxt]:\n",
    "                visited[nxt] = True\n",
    "                s.append(nxt)\n",
    "            else:\n",
    "                output = s.pop()\n",
    "                print(output, end=' ')        "
   ]
  },
  {
   "cell_type": "code",
   "execution_count": null,
   "metadata": {},
   "outputs": [],
   "source": []
  }
 ],
 "metadata": {
  "kernelspec": {
   "display_name": "base",
   "language": "python",
   "name": "python3"
  },
  "language_info": {
   "codemirror_mode": {
    "name": "ipython",
    "version": 3
   },
   "file_extension": ".py",
   "mimetype": "text/x-python",
   "name": "python",
   "nbconvert_exporter": "python",
   "pygments_lexer": "ipython3",
   "version": "3.9.12"
  }
 },
 "nbformat": 4,
 "nbformat_minor": 2
}
