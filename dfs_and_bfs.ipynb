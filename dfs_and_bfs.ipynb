{
 "cells": [
  {
   "cell_type": "code",
   "execution_count": 36,
   "metadata": {},
   "outputs": [
    {
     "name": "stdout",
     "output_type": "stream",
     "text": [
      "노드수 : 8,  간선수 : 9\n",
      "[]\n",
      "[8, 2, 3]\n",
      "[7, 1]\n",
      "[5, 4, 1]\n",
      "[3, 5]\n",
      "[3, 4]\n",
      "[7]\n",
      "[8, 2, 6]\n",
      "[7, 1]\n"
     ]
    }
   ],
   "source": [
    "# 그래프 구축하기\n",
    "with open(\"data/dfs_and_bfs.txt\", \"r\") as input:\n",
    "    n, m = map(int, input.readline().split())\n",
    "    print(f\"노드수 : {n},  간선수 : {m}\")\n",
    "    \n",
    "    graph = [[] for _ in range(n+1)]\n",
    "    for _ in range(m):\n",
    "        a, b = map(int, input.readline().split())\n",
    "        graph[a].append(b)\n",
    "        graph[b].append(a)\n",
    "        \n",
    "    for row in graph:\n",
    "        print(row)\n",
    "        \n",
    "    visited = [False] * (n+1)"
   ]
  },
  {
   "cell_type": "code",
   "execution_count": 5,
   "metadata": {},
   "outputs": [],
   "source": [
    "graph = [[],[2,3,8],[1,7],[1,4,5],[3,5],[3,4],[7],[2,6,8],[1,7]]\n",
    "visited = [False] * 9"
   ]
  },
  {
   "cell_type": "code",
   "execution_count": null,
   "metadata": {},
   "outputs": [],
   "source": [
    "def dfs_stack(graph, v, visited):\n",
    "    visited[v] = True\n",
    "    s = []\n",
    "    s.append(v)\n",
    "    print(v, end=' ')\n",
    "    while s:\n",
    "        if not s:\n",
    "            break\n",
    "        now = s[-1]        \n",
    "        \n",
    "        for nxt in graph[now]:\n",
    "            if visited[nxt]:\n",
    "                if s:\n",
    "                    s.pop()  \n",
    "                else:\n",
    "                    continue            \n",
    "                \n",
    "            else:\n",
    "                visited[nxt] = True\n",
    "                s.append(nxt)\n",
    "                print(nxt, end=' ')\n",
    "                if len(graph[now]) == 1:\n",
    "                    break\n",
    "                else:\n",
    "                    continue"
   ]
  },
  {
   "cell_type": "code",
   "execution_count": 6,
   "metadata": {},
   "outputs": [],
   "source": [
    "# dfs 대신 bfs가 구현되었다.\n",
    "def dfs_stack(graph, v, visited):\n",
    "    visited[v] = True\n",
    "    s = []\n",
    "    s.append(v)\n",
    "    print(v, end=' ')\n",
    "    while s:\n",
    "        if not s:\n",
    "            break\n",
    "        now = s[-1]        \n",
    "        \n",
    "        for nxt in graph[now]:\n",
    "            if visited[nxt]:\n",
    "                if s:\n",
    "                    s.pop()  \n",
    "                else:\n",
    "                    continue            \n",
    "                \n",
    "            else:\n",
    "                visited[nxt] = True\n",
    "                s.append(nxt)\n",
    "                print(nxt, end=' ')\n",
    "                if len(graph[now]) == 1:\n",
    "                    break\n",
    "                else:\n",
    "                    continue"
   ]
  },
  {
   "cell_type": "code",
   "execution_count": 7,
   "metadata": {},
   "outputs": [
    {
     "name": "stdout",
     "output_type": "stream",
     "text": [
      "1 2 3 8 7 6 4 5 "
     ]
    }
   ],
   "source": [
    "dfs_stack(graph, 1, visited)"
   ]
  },
  {
   "cell_type": "code",
   "execution_count": 1,
   "metadata": {},
   "outputs": [],
   "source": [
    "graph = [[],[2,3,8],[1,7],[1,4,5],[3,5],[3,4],[7],[2,6,8],[1,7]]\n",
    "visited = [False] * 9"
   ]
  },
  {
   "cell_type": "code",
   "execution_count": 2,
   "metadata": {},
   "outputs": [],
   "source": [
    "# recursive function을 이용해서 dfs를 만들기\n",
    "def dfs_recursive(graph, v, visited):\n",
    "    visited[v] = True\n",
    "    print(v, end=' ')\n",
    "    for i in graph[v]:\n",
    "        if not visited[i]:\n",
    "            dfs_recursive(graph, i, visited)"
   ]
  },
  {
   "cell_type": "code",
   "execution_count": 3,
   "metadata": {},
   "outputs": [
    {
     "name": "stdout",
     "output_type": "stream",
     "text": [
      "1 2 7 6 8 3 4 5 "
     ]
    }
   ],
   "source": [
    "dfs_recursive(graph, 1, visited)"
   ]
  },
  {
   "cell_type": "code",
   "execution_count": 28,
   "metadata": {},
   "outputs": [
    {
     "data": {
      "text/plain": [
       "289758"
      ]
     },
     "execution_count": 28,
     "metadata": {},
     "output_type": "execute_result"
    }
   ],
   "source": [
    "206734 + 66024 + 17000"
   ]
  },
  {
   "cell_type": "code",
   "execution_count": 21,
   "metadata": {},
   "outputs": [
    {
     "name": "stdout",
     "output_type": "stream",
     "text": [
      "1\n",
      "3\n"
     ]
    }
   ],
   "source": [
    "x = [1,3,6,8]\n",
    "for i in x:\n",
    "    if i == 6:\n",
    "        break\n",
    "    else:\n",
    "        print(i)"
   ]
  }
 ],
 "metadata": {
  "kernelspec": {
   "display_name": "base",
   "language": "python",
   "name": "python3"
  },
  "language_info": {
   "codemirror_mode": {
    "name": "ipython",
    "version": 3
   },
   "file_extension": ".py",
   "mimetype": "text/x-python",
   "name": "python",
   "nbconvert_exporter": "python",
   "pygments_lexer": "ipython3",
   "version": "3.9.12"
  }
 },
 "nbformat": 4,
 "nbformat_minor": 2
}
