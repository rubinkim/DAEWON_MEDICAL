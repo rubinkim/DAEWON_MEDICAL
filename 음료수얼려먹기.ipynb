{
 "cells": [
  {
   "cell_type": "code",
   "execution_count": 7,
   "metadata": {},
   "outputs": [
    {
     "name": "stdout",
     "output_type": "stream",
     "text": [
      "n : 4,  m : 5\n",
      "[0, 0, 1, 1, 0]\n",
      "[0, 0, 0, 1, 1]\n",
      "[1, 1, 1, 1, 1]\n",
      "[0, 0, 0, 0, 0]\n"
     ]
    }
   ],
   "source": [
    "with open(\"data/음료수얼려먹기.txt\", \"r\") as input:\n",
    "    n, m = map(int, input.readline().split())\n",
    "    print(f\"n : {n},  m : {m}\")\n",
    "    \n",
    "    graph = [[] for _ in range(n)]\n",
    "    for i in range(n):\n",
    "        row = list(map(int, input.readline().split()))\n",
    "        for x in row:\n",
    "            graph[i].append(x)\n",
    "        \n",
    "    for row in graph:\n",
    "        print(row)"
   ]
  },
  {
   "cell_type": "code",
   "execution_count": null,
   "metadata": {},
   "outputs": [],
   "source": [
    "from collections import deque\n",
    "\n",
    "cnt = 0\n",
    "\n",
    "def find_num_ices(graph, start_x, start_y):\n",
    "    global cnt\n",
    "    q = deque()\n",
    "    q.append((cnt, start_x, start_y))\n",
    "    path = []\n",
    "    \n",
    "    while q:\n",
    "        cnt2 , x, y = q.popleft()\n",
    "        if 0 <= x <= n and 0 <= y <= m and (x, y) not in path and graph[x][y] == 0:\n",
    "            path.append((x, y))\n",
    "        \n",
    "        for i in range(4):"
   ]
  }
 ],
 "metadata": {
  "kernelspec": {
   "display_name": "base",
   "language": "python",
   "name": "python3"
  },
  "language_info": {
   "codemirror_mode": {
    "name": "ipython",
    "version": 3
   },
   "file_extension": ".py",
   "mimetype": "text/x-python",
   "name": "python",
   "nbconvert_exporter": "python",
   "pygments_lexer": "ipython3",
   "version": "3.9.12"
  }
 },
 "nbformat": 4,
 "nbformat_minor": 2
}
