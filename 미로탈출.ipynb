{
 "cells": [
  {
   "cell_type": "code",
   "execution_count": 60,
   "metadata": {},
   "outputs": [
    {
     "name": "stdout",
     "output_type": "stream",
     "text": [
      "n : 5,  m : 6\n",
      "[1, 1, 1, 1, 0, 1]\n",
      "[0, 0, 1, 0, 0, 1]\n",
      "[1, 1, 1, 1, 0, 1]\n",
      "[1, 0, 0, 0, 1, 1]\n",
      "[1, 1, 1, 1, 1, 1]\n"
     ]
    }
   ],
   "source": [
    "with open(\"data/미로탈출.txt\", \"r\") as input:\n",
    "    n, m = map(int, input.readline().split())\n",
    "    print(f\"n : {n},  m : {m}\")\n",
    "    \n",
    "    graph = [[] for _ in range(n)]\n",
    "    for i in range(n):\n",
    "        row = list(map(int, input.readline().split()))\n",
    "        for x in row:\n",
    "            graph[i].append(x)\n",
    "            \n",
    "    for row in graph:\n",
    "        print(row)"
   ]
  },
  {
   "cell_type": "code",
   "execution_count": 61,
   "metadata": {},
   "outputs": [
    {
     "name": "stdout",
     "output_type": "stream",
     "text": [
      "[0, 0, 0, 0, 0, 0]\n",
      "[0, 0, 0, 0, 0, 0]\n",
      "[0, 0, 0, 0, 0, 0]\n",
      "[0, 0, 0, 0, 0, 0]\n",
      "[0, 0, 0, 0, 0, 0]\n"
     ]
    }
   ],
   "source": [
    "route = [[0] * m for _ in range(n)]\n",
    "for row in route:\n",
    "    print(row)"
   ]
  },
  {
   "cell_type": "code",
   "execution_count": 14,
   "metadata": {},
   "outputs": [],
   "source": [
    "from collections import deque\n",
    "\n",
    "def bfs_maze(graph, start_x, start_y):\n",
    "    path = \"\"\n",
    "    cnt = 0\n",
    "    dx = [-1, 1, 0, 0]\n",
    "    dy = [0, 0, -1, 1]\n",
    "    \n",
    "    if start_x <= -1 or start_x >= n or start_y <= -1 or start_y >= m:\n",
    "        print(f\"귀하가 계신 {(start_x+1, start_y+1)} 위치는 직사각형밖이어서 지금 탈출합니다. adios!!!\")\n",
    "    if graph[start_x-1][start_y-1] == 1:\n",
    "        q = deque([(cnt, start_x, start_y)])\n",
    "        #path += str((start_x, start_y)) + \" --> \"\n",
    "        \n",
    "        while True:\n",
    "            new_cnt, x, y = q.popleft()\n",
    "            if x == n and y == m:                \n",
    "                return new_cnt\n",
    "            for i in range(4):\n",
    "                nx = x + dx[i]\n",
    "                ny = y + dy[i]\n",
    "                this_step_cnt = 0\n",
    "                \n",
    "                if 1 <= nx <= n and 1 <= ny <= m and graph[nx-1][ny-1] == 1:\n",
    "                    this_step_cnt = 1\n",
    "                    q.append((new_cnt + this_step_cnt, nx, ny))"
   ]
  },
  {
   "cell_type": "code",
   "execution_count": 15,
   "metadata": {},
   "outputs": [
    {
     "data": {
      "text/plain": [
       "13"
      ]
     },
     "execution_count": 15,
     "metadata": {},
     "output_type": "execute_result"
    }
   ],
   "source": [
    "bfs_maze(graph, 1, 1)"
   ]
  },
  {
   "cell_type": "code",
   "execution_count": 59,
   "metadata": {},
   "outputs": [],
   "source": [
    "from collections import deque\n",
    "\n",
    "def bfs_maze(graph, start_x, start_y):\n",
    "    global route\n",
    "    cnt = 0\n",
    "    dx = [-1, 1, 0, 0]\n",
    "    dy = [0, 0, -1, 1]\n",
    "    \n",
    "    if start_x <= -1 or start_x >= n or start_y <= -1 or start_y >= m:\n",
    "        print(f\"귀하가 계신 {(start_x+1, start_y+1)} 위치는 직사각형밖이어서 지금 탈출합니다. adios!!!\")\n",
    "    if graph[start_x-1][start_y-1] == 1:\n",
    "        q = deque([(cnt, start_x, start_y)])        \n",
    "        \n",
    "        while True:\n",
    "            new_cnt, x, y = q.popleft()            \n",
    "            if x == n and y == m:                \n",
    "                return new_cnt, route\n",
    "            for i in range(4):\n",
    "                nx = x + dx[i]\n",
    "                ny = y + dy[i]\n",
    "                this_step_cnt = 0                \n",
    "                \n",
    "                if 1 <= nx <= n and 1 <= ny <= m and route[nx-1][ny-1] == 0 and graph[nx-1][ny-1] == 1:\n",
    "                    this_step_cnt = 1\n",
    "                    q.append((new_cnt + this_step_cnt, nx, ny))\n",
    "                    if nx == start_x and ny == start_y:\n",
    "                        route[nx-1][ny-1] = 0                   "
   ]
  },
  {
   "cell_type": "code",
   "execution_count": 56,
   "metadata": {},
   "outputs": [
    {
     "ename": "IndexError",
     "evalue": "pop from an empty deque",
     "output_type": "error",
     "traceback": [
      "\u001b[1;31m---------------------------------------------------------------------------\u001b[0m",
      "\u001b[1;31mIndexError\u001b[0m                                Traceback (most recent call last)",
      "Input \u001b[1;32mIn [56]\u001b[0m, in \u001b[0;36m<cell line: 1>\u001b[1;34m()\u001b[0m\n\u001b[1;32m----> 1\u001b[0m \u001b[43mbfs_maze\u001b[49m\u001b[43m(\u001b[49m\u001b[43mgraph\u001b[49m\u001b[43m,\u001b[49m\u001b[43m \u001b[49m\u001b[38;5;241;43m1\u001b[39;49m\u001b[43m,\u001b[49m\u001b[43m \u001b[49m\u001b[38;5;241;43m1\u001b[39;49m\u001b[43m)\u001b[49m\n",
      "Input \u001b[1;32mIn [54]\u001b[0m, in \u001b[0;36mbfs_maze\u001b[1;34m(graph, start_x, start_y)\u001b[0m\n\u001b[0;32m     12\u001b[0m q \u001b[38;5;241m=\u001b[39m deque([(cnt, start_x, start_y)])        \n\u001b[0;32m     14\u001b[0m \u001b[38;5;28;01mwhile\u001b[39;00m \u001b[38;5;28;01mTrue\u001b[39;00m:\n\u001b[1;32m---> 15\u001b[0m     new_cnt, x, y \u001b[38;5;241m=\u001b[39m \u001b[43mq\u001b[49m\u001b[38;5;241;43m.\u001b[39;49m\u001b[43mpopleft\u001b[49m\u001b[43m(\u001b[49m\u001b[43m)\u001b[49m\n\u001b[0;32m     16\u001b[0m     route[start_x][start_y] \u001b[38;5;241m=\u001b[39m \u001b[38;5;241m0\u001b[39m\n\u001b[0;32m     17\u001b[0m     \u001b[38;5;28;01mif\u001b[39;00m x \u001b[38;5;241m==\u001b[39m n \u001b[38;5;129;01mand\u001b[39;00m y \u001b[38;5;241m==\u001b[39m m:                \n",
      "\u001b[1;31mIndexError\u001b[0m: pop from an empty deque"
     ]
    }
   ],
   "source": [
    "bfs_maze(graph, 1, 1)"
   ]
  },
  {
   "cell_type": "code",
   "execution_count": 39,
   "metadata": {},
   "outputs": [
    {
     "name": "stdout",
     "output_type": "stream",
     "text": [
      "[1059, 1684, 3261, 1263, 0, 0]\n",
      "[0, 0, 2308, 0, 0, 0]\n",
      "[1091, 1412, 2865, 1045, 0, 0]\n",
      "[458, 0, 0, 0, 1, 1]\n",
      "[320, 105, 70, 15, 11, 1]\n"
     ]
    }
   ],
   "source": [
    "for row in route:\n",
    "    print(row)"
   ]
  },
  {
   "cell_type": "code",
   "execution_count": 20,
   "metadata": {},
   "outputs": [],
   "source": [
    "from collections import deque\n",
    "\n",
    "def bfs_maze(graph, start_x, start_y):\n",
    "    path = \"\"\n",
    "    cnt = 0\n",
    "    dx = [-1, 1, 0, 0]\n",
    "    dy = [0, 0, -1, 1]\n",
    "    \n",
    "    if start_x <= -1 or start_x >= n or start_y <= -1 or start_y >= m:\n",
    "        print(f\"귀하가 계신 {(start_x+1, start_y+1)} 위치는 직사각형밖이어서 지금 탈출합니다. adios!!!\")\n",
    "    if graph[start_x-1][start_y-1] == 1:\n",
    "        path += str((start_x-1, start_y-1)) + \" --> \"\n",
    "        q = deque([(cnt, start_x, start_y, path)])        \n",
    "        \n",
    "        while True:\n",
    "            new_cnt, x, y, new_path = q.popleft()\n",
    "            if x == n and y == m:\n",
    "                return new_cnt, new_path\n",
    "            for i in range(4):\n",
    "                nx = x + dx[i]\n",
    "                ny = y + dy[i]\n",
    "                this_step_cnt = 0\n",
    "                this_step_path = \"\"\n",
    "                if 1 <= nx <= n and 1 <= ny <= m and graph[nx-1][ny-1] == 1:\n",
    "                    this_step_cnt = 1\n",
    "                    this_step_path = str((nx-1, ny-1)) + \" --> \"\n",
    "                    q.append((new_cnt + this_step_cnt, nx, ny, new_path + this_step_path))"
   ]
  },
  {
   "cell_type": "code",
   "execution_count": 21,
   "metadata": {},
   "outputs": [
    {
     "data": {
      "text/plain": [
       "(13,\n",
       " '(0, 0) --> (0, 1) --> (0, 2) --> (1, 2) --> (2, 2) --> (2, 1) --> (2, 0) --> (3, 0) --> (4, 0) --> (4, 1) --> (4, 2) --> (4, 3) --> (4, 4) --> (4, 5) --> ')"
      ]
     },
     "execution_count": 21,
     "metadata": {},
     "output_type": "execute_result"
    }
   ],
   "source": [
    "bfs_maze(graph, 1, 1)"
   ]
  }
 ],
 "metadata": {
  "kernelspec": {
   "display_name": "base",
   "language": "python",
   "name": "python3"
  },
  "language_info": {
   "codemirror_mode": {
    "name": "ipython",
    "version": 3
   },
   "file_extension": ".py",
   "mimetype": "text/x-python",
   "name": "python",
   "nbconvert_exporter": "python",
   "pygments_lexer": "ipython3",
   "version": "3.9.12"
  }
 },
 "nbformat": 4,
 "nbformat_minor": 2
}
