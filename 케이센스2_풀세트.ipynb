{
 "cells": [
  {
   "cell_type": "code",
   "execution_count": 2,
   "metadata": {},
   "outputs": [],
   "source": [
    "from webdriver_manager.chrome import ChromeDriverManager\n",
    "from selenium import webdriver\n",
    "from selenium.webdriver.common.by import By\n",
    "from selenium.webdriver.chrome.service import Service\n",
    "from selenium.common.exceptions import NoSuchElementException\n",
    "import time\n",
    "\n",
    "from openpyxl import Workbook"
   ]
  },
  {
   "cell_type": "code",
   "execution_count": 4,
   "metadata": {},
   "outputs": [],
   "source": [
    "original_list = [\"caresense2_meter_fullset\"]                          # 수집하려는 품목들을 리스트로 만든다.\n",
    "product_code = {\"caresense2_meter_fullset\" : 9355226}"
   ]
  },
  {
   "cell_type": "code",
   "execution_count": 5,
   "metadata": {},
   "outputs": [],
   "source": [
    "# 위 정보를 이용해서 각 상품별 url_list를 만들어준다.\n",
    "url_list = [] \n",
    "for lis in original_list:\n",
    "    key = product_code[lis] \n",
    "    raw_url = f\"https://www.coupang.com/np/categories/{key}?listSize=120&brand=&offerCondition=&filterType=&isPriceRange=false&minPrice=&maxPrice=&page=\"\n",
    "    url_list.append(raw_url)"
   ]
  },
  {
   "cell_type": "code",
   "execution_count": null,
   "metadata": {},
   "outputs": [],
   "source": [
    "options = webdriver.ChromeOptions()\n",
    "# options.add_argument(\"--headless\")\n",
    "options.add_argument(\"authority=\" + \"www.coupang.com\")\n",
    "options.add_argument(\"method=\" + \"GET\")\n",
    "options.add_argument(\"accept=\" + \"text/html,application/xhtml+xml,application/xml;q=0.9,image/avif,image/webp,image/apng,*/*;q=0.8,application/signed-exchange;v=b3;q=0.9\")\n",
    "options.add_argument(\"accept-encoding=\" + \"gzip, deflate, br\")\n",
    "options.add_argument(\"user-agent=\" + \"Mozilla/5.0 (Macintosh; Intel Mac OS X 10_15_7) AppleWebKit/537.36 (KHTML, like Gecko) Chrome/98.0.4758.104 Whale/3.13.131.36 Safari/537.36\")\n",
    "options.add_argument(\"sec-ch-ua-platform=\" + \"macOS\")\n",
    "options.add_argument(\"cookie=\" + \"PCID=31489593180081104183684; _fbp=fb.1.1644931520418.1544640325; gd1=Y; X-CP-PT-locale=ko_KR; MARKETID=31489593180081104183684; sid=03ae1c0ed61946c19e760cf1a3d9317d808aca8b; x-coupang-origin-region=KOREA; x-coupang-target-market=KR; x-coupang-accept-language=ko_KR;\")"
   ]
  },
  {
   "cell_type": "code",
   "execution_count": 6,
   "metadata": {},
   "outputs": [
    {
     "name": "stdout",
     "output_type": "stream",
     "text": [
      "************************************************** caresense2_meter_fullset시작하겠습니다. **************************************************\n"
     ]
    },
    {
     "ename": "NameError",
     "evalue": "name 'options' is not defined",
     "output_type": "error",
     "traceback": [
      "\u001b[1;31m---------------------------------------------------------------------------\u001b[0m",
      "\u001b[1;31mNameError\u001b[0m                                 Traceback (most recent call last)",
      "Input \u001b[1;32mIn [6]\u001b[0m, in \u001b[0;36m<cell line: 1>\u001b[1;34m()\u001b[0m\n\u001b[0;32m      2\u001b[0m \u001b[38;5;28mprint\u001b[39m(\u001b[38;5;124m\"\u001b[39m\u001b[38;5;124m*\u001b[39m\u001b[38;5;124m\"\u001b[39m \u001b[38;5;241m*\u001b[39m \u001b[38;5;241m50\u001b[39m \u001b[38;5;241m+\u001b[39m \u001b[38;5;124m\"\u001b[39m\u001b[38;5;124m \u001b[39m\u001b[38;5;124m\"\u001b[39m \u001b[38;5;241m+\u001b[39m \u001b[38;5;124mf\u001b[39m\u001b[38;5;124m\"\u001b[39m\u001b[38;5;132;01m{\u001b[39;00mname\u001b[38;5;132;01m}\u001b[39;00m\u001b[38;5;124m시작하겠습니다.\u001b[39m\u001b[38;5;124m\"\u001b[39m \u001b[38;5;241m+\u001b[39m \u001b[38;5;124m\"\u001b[39m\u001b[38;5;124m \u001b[39m\u001b[38;5;124m\"\u001b[39m \u001b[38;5;241m+\u001b[39m \u001b[38;5;124m\"\u001b[39m\u001b[38;5;124m*\u001b[39m\u001b[38;5;124m\"\u001b[39m \u001b[38;5;241m*\u001b[39m \u001b[38;5;241m50\u001b[39m)\n\u001b[0;32m      4\u001b[0m \u001b[38;5;28;01mfor\u001b[39;00m i \u001b[38;5;129;01min\u001b[39;00m \u001b[38;5;28mrange\u001b[39m(\u001b[38;5;241m1\u001b[39m, \u001b[38;5;241m6\u001b[39m):\n\u001b[1;32m----> 5\u001b[0m     driver \u001b[38;5;241m=\u001b[39m webdriver\u001b[38;5;241m.\u001b[39mChrome(service\u001b[38;5;241m=\u001b[39mService(ChromeDriverManager()\u001b[38;5;241m.\u001b[39minstall()), options\u001b[38;5;241m=\u001b[39m\u001b[43moptions\u001b[49m)   \n\u001b[0;32m      6\u001b[0m     temp_url \u001b[38;5;241m=\u001b[39m main_url \u001b[38;5;241m+\u001b[39m \u001b[38;5;124mf\u001b[39m\u001b[38;5;124m\"\u001b[39m\u001b[38;5;132;01m{\u001b[39;00mi\u001b[38;5;132;01m}\u001b[39;00m\u001b[38;5;124m\"\u001b[39m\n\u001b[0;32m      7\u001b[0m     driver\u001b[38;5;241m.\u001b[39mget(temp_url)\n",
      "\u001b[1;31mNameError\u001b[0m: name 'options' is not defined"
     ]
    }
   ],
   "source": [
    "for name, main_url in zip(original_list, url_list) : \n",
    "    print(\"*\" * 50 + \" \" + f\"{name}시작하겠습니다.\" + \" \" + \"*\" * 50)\n",
    "    \n",
    "    for i in range(1, 6):\n",
    "        driver = webdriver.Chrome(service=Service(ChromeDriverManager().install()), options=options)   \n",
    "        temp_url = main_url + f\"{i}\"\n",
    "        driver.get(temp_url)\n",
    "        time.sleep(10)\n",
    "        print(\"*\" * 50 + \" \" + str(i) + \"Page start!\" + \" \" + \"*\" * 50)\n",
    "\n",
    "        wb = Workbook()\n",
    "        ws = wb.create_sheet(name)\n",
    "        wb.remove_sheet(wb[\"Sheet\"])\n",
    "        ws.append([\"상품명\", \"가격\", \"배송기한\", \"상세URL\"]) \n",
    "\n",
    "        try :\n",
    "            product = driver.find_element(By.ID, \"productList\")\n",
    "            lis = product.find_elements(By.CLASS_NAME, \"baby-product\")\n",
    "\n",
    "            for li in lis:\n",
    "                try : \n",
    "                    product = li.find_element(By.CLASS_NAME, \"name\").text\n",
    "                    price = li.find_element(By.CLASS_NAME, \"price-value\").text\n",
    "                    delivery = li.find_element(By.CLASS_NAME, \"delivery\").text\n",
    "                    product_url = li.find_element(By.CLASS_NAME, \"baby-product-link\").get_attribute(\"href\")\n",
    "                    ws.append([product, price, delivery, product_url])\n",
    "                    print(\"product : \", product)\n",
    "                    print(\"price : \", price)\n",
    "                    print(\"delivery : \", delivery)\n",
    "                    print(\"url : \", product_url)\n",
    "                except Exception:\n",
    "                    pass \n",
    "            print(\"*\" * 50 + \" \" + str(i) + \"Page end!\" + \" \" + \"*\" * 50)\n",
    "            time.sleep(5)\n",
    "            wb.save(f\"/Users/kds/Documents/coupang/{name}_{i}page.xlsx\")\n",
    "            wb.close()\n",
    "            \n",
    "            driver.quit()\n",
    "            \n",
    "        except NoSuchElementException :\n",
    "            print(\"에러가 발생하여 정상적으로 데이터가 수집되지 않았습니다.\")\n",
    "            \n",
    "    print(f\"*\" * 50 + \"모든 데이터 수집을 마쳤습니다. 감사합니다. \" + \" \" + \"*\" * 50)"
   ]
  }
 ],
 "metadata": {
  "kernelspec": {
   "display_name": "base",
   "language": "python",
   "name": "python3"
  },
  "language_info": {
   "codemirror_mode": {
    "name": "ipython",
    "version": 3
   },
   "file_extension": ".py",
   "mimetype": "text/x-python",
   "name": "python",
   "nbconvert_exporter": "python",
   "pygments_lexer": "ipython3",
   "version": "3.9.12"
  }
 },
 "nbformat": 4,
 "nbformat_minor": 2
}
