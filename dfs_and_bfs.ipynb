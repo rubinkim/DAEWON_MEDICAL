{
 "cells": [
  {
   "cell_type": "code",
   "execution_count": null,
   "metadata": {},
   "outputs": [],
   "source": [
    "# 그래프 구축하기\n",
    "with open(\"data/dfs_and_bfs.txt\", \"r\") as input:\n",
    "    n, m = input.readline().split()\n",
    "    print(f\"노드수 : {n},   간선수 : {m}\")\n",
    "    \n",
    "    graph = [[] for _ in range(n+1)]\n",
    "    "
   ]
  }
 ],
 "metadata": {
  "kernelspec": {
   "display_name": "base",
   "language": "python",
   "name": "python3"
  },
  "language_info": {
   "name": "python",
   "version": "3.9.12"
  }
 },
 "nbformat": 4,
 "nbformat_minor": 2
}
